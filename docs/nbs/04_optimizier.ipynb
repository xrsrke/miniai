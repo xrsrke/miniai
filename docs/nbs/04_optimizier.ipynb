{
 "cells": [
  {
   "cell_type": "markdown",
   "id": "223393e0-62f5-4a7a-9fad-a113d526c47d",
   "metadata": {},
   "source": [
    "# optimizer\n",
    "\n",
    "> Fill in a module description here"
   ]
  },
  {
   "cell_type": "code",
   "execution_count": null,
   "id": "b7655853-9cc2-4af1-8a7d-f5642ba67420",
   "metadata": {},
   "outputs": [],
   "source": [
    "#| default_exp optimizer"
   ]
  },
  {
   "cell_type": "code",
   "execution_count": null,
   "id": "ac728141-5647-4b40-b6c5-afc00723f79f",
   "metadata": {},
   "outputs": [],
   "source": [
    "#| hide\n",
    "from nbdev.showdoc import *"
   ]
  },
  {
   "cell_type": "code",
   "execution_count": null,
   "id": "5a24f7d2-35a0-4c6c-98bd-d809ea3de92f",
   "metadata": {},
   "outputs": [],
   "source": [
    "#| hide\n",
    "import nbdev; nbdev.nbdev_export()"
   ]
  }
 ],
 "metadata": {
  "kernelspec": {
   "display_name": "Python 3 (ipykernel)",
   "language": "python",
   "name": "python3"
  }
 },
 "nbformat": 4,
 "nbformat_minor": 5
}
