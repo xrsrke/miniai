{
 "cells": [
  {
   "cell_type": "markdown",
   "id": "75320284-34f2-4990-85bf-c7668e515a8a",
   "metadata": {},
   "source": [
    "# utils\n",
    "\n",
    "> Fill in a module description here"
   ]
  },
  {
   "cell_type": "code",
   "execution_count": null,
   "id": "26c9e04f-6ede-46f5-a02d-72a468aa41e1",
   "metadata": {},
   "outputs": [],
   "source": [
    "#| default_exp utils"
   ]
  },
  {
   "cell_type": "code",
   "execution_count": null,
   "id": "a3bae3fe-c95f-482a-851c-ddd65157fb95",
   "metadata": {},
   "outputs": [],
   "source": [
    "#| hide\n",
    "from nbdev.showdoc import *"
   ]
  },
  {
   "cell_type": "code",
   "execution_count": null,
   "id": "a93f10ea-d534-4b0a-82f3-cf3349d5776f",
   "metadata": {},
   "outputs": [],
   "source": [
    "#| hide\n",
    "import nbdev; nbdev.nbdev_export()"
   ]
  },
  {
   "cell_type": "code",
   "execution_count": null,
   "id": "beda9e8c-6a89-4aae-b956-55ed9d0e9f28",
   "metadata": {},
   "outputs": [],
   "source": [
    "from miniai.utils import listify"
   ]
  },
  {
   "cell_type": "code",
   "execution_count": null,
   "id": "5dc9ac60-faea-467f-b9f8-734efefc89be",
   "metadata": {},
   "outputs": [
    {
     "data": {
      "text/plain": [
       "[1, 2, 3]"
      ]
     },
     "execution_count": null,
     "metadata": {},
     "output_type": "execute_result"
    }
   ],
   "source": [
    "listify([1, 2, 3])"
   ]
  },
  {
   "cell_type": "code",
   "execution_count": null,
   "id": "461e56a2-a4ce-43a1-a432-ebe43ba642a1",
   "metadata": {},
   "outputs": [],
   "source": []
  },
  {
   "cell_type": "code",
   "execution_count": null,
   "id": "e98d708b-4d06-462c-9567-936fe905f672",
   "metadata": {},
   "outputs": [],
   "source": []
  }
 ],
 "metadata": {
  "kernelspec": {
   "display_name": "Python 3 (ipykernel)",
   "language": "python",
   "name": "python3"
  }
 },
 "nbformat": 4,
 "nbformat_minor": 5
}
